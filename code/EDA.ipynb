{
 "cells": [
  {
   "cell_type": "markdown",
   "id": "6e150b8b",
   "metadata": {},
   "source": [
    "### TODO\n",
    "- Split into visit personas \n",
    "    - dropins vs preschool (map visit program)\n",
    "- Add weather data\n",
    "    - temp, precip. chance\n"
   ]
  },
  {
   "cell_type": "code",
   "execution_count": 1,
   "id": "3161d0a1",
   "metadata": {},
   "outputs": [],
   "source": [
    "import pandas as pd\n",
    "import numpy as np\n",
    "import matplotlib.pyplot as plt\n",
    "import seaborn as sns\n",
    "import plotly.express as px\n",
    "\n",
    "from statsmodels.tsa.seasonal import seasonal_decompose\n",
    "from statsmodels.graphics.tsaplots import plot_acf, plot_pacf\n",
    "from statsmodels.tsa.stattools import adfuller\n"
   ]
  },
  {
   "cell_type": "code",
   "execution_count": 2,
   "id": "492bdf21",
   "metadata": {},
   "outputs": [],
   "source": [
    "eg_df = pd.read_csv('../data/evergreen-visits.csv', parse_dates=['Visit Date', 'Visit Time In', 'Visit Time Out'])\n",
    "sb_df = pd.read_csv('../data/steamboat-visits.csv', parse_dates=['Visit Date', 'Visit Time In', 'Visit Time Out'])\n",
    "ch_df = pd.read_csv('../data/charleston-visits.csv', parse_dates=['Visit Date', 'Visit Time In', 'Visit Time Out'])"
   ]
  },
  {
   "cell_type": "code",
   "execution_count": 3,
   "id": "27f801ce",
   "metadata": {},
   "outputs": [],
   "source": [
    "center_map = {\n",
    "    7100: 'Mt Pleasant',\n",
    "    7101: 'S Windemeer',\n",
    "    7102: 'Steamboat',\n",
    "    7103: 'Evergreen'\n",
    "}\n",
    "\n",
    "# combine dfs\n",
    "sb_df['center'] = 7102\n",
    "eg_df['center'] = 7103\n",
    "ch_df = ch_df.rename({'Visit Center ID':'center'}, axis=1)\n",
    "\n",
    "kg_df = pd.concat([sb_df, eg_df, ch_df])"
   ]
  },
  {
   "cell_type": "markdown",
   "id": "6a76745d",
   "metadata": {},
   "source": [
    "### Attempting to separate out attendance personas"
   ]
  },
  {
   "cell_type": "code",
   "execution_count": 6,
   "id": "7613d216",
   "metadata": {},
   "outputs": [
    {
     "data": {
      "application/vnd.microsoft.datawrangler.viewer.v0+json": {
       "columns": [
        {
         "name": "index",
         "rawType": "int64",
         "type": "integer"
        },
        {
         "name": "Visit Program",
         "rawType": "object",
         "type": "unknown"
        }
       ],
       "ref": "79a74646-6a07-4daf-9dd6-8e09dac56aab",
       "rows": [
        [
         "0",
         "Infant"
        ],
        [
         "1",
         "Infant"
        ],
        [
         "2",
         "Infant"
        ],
        [
         "3",
         null
        ],
        [
         "4",
         "Infant"
        ],
        [
         "5",
         null
        ],
        [
         "6",
         "Infant"
        ],
        [
         "7",
         "Infant"
        ],
        [
         "8",
         "Infant"
        ],
        [
         "9",
         "Infant"
        ],
        [
         "10",
         "Infant"
        ],
        [
         "11",
         "Infant"
        ],
        [
         "12",
         null
        ],
        [
         "13",
         "Infant"
        ],
        [
         "14",
         "Infant"
        ],
        [
         "15",
         "Infant"
        ],
        [
         "16",
         null
        ],
        [
         "17",
         "Infant"
        ],
        [
         "18",
         "Infant"
        ],
        [
         "19",
         "Infant"
        ],
        [
         "20",
         "Infant"
        ],
        [
         "21",
         "Infant"
        ],
        [
         "22",
         null
        ],
        [
         "23",
         "Infant"
        ],
        [
         "24",
         null
        ],
        [
         "25",
         null
        ],
        [
         "26",
         null
        ],
        [
         "27",
         "Infant"
        ],
        [
         "28",
         "Infant"
        ],
        [
         "29",
         null
        ],
        [
         "30",
         null
        ],
        [
         "31",
         "Infant"
        ],
        [
         "32",
         null
        ],
        [
         "33",
         "Infant"
        ],
        [
         "34",
         "Infant"
        ],
        [
         "35",
         null
        ],
        [
         "36",
         null
        ],
        [
         "37",
         "Infant"
        ],
        [
         "38",
         "Infant"
        ],
        [
         "39",
         "Infant"
        ],
        [
         "40",
         null
        ],
        [
         "41",
         "Infant"
        ],
        [
         "42",
         null
        ],
        [
         "43",
         "Infant"
        ],
        [
         "44",
         "Infant"
        ],
        [
         "45",
         null
        ],
        [
         "46",
         "Infant"
        ],
        [
         "47",
         null
        ],
        [
         "48",
         null
        ],
        [
         "49",
         null
        ]
       ],
       "shape": {
        "columns": 1,
        "rows": 52592
       }
      },
      "text/plain": [
       "0        Infant\n",
       "1        Infant\n",
       "2        Infant\n",
       "3           NaN\n",
       "4        Infant\n",
       "          ...  \n",
       "52587       NaN\n",
       "52588       NaN\n",
       "52589       NaN\n",
       "52590       NaN\n",
       "52591       NaN\n",
       "Name: Visit Program, Length: 52592, dtype: object"
      ]
     },
     "execution_count": 6,
     "metadata": {},
     "output_type": "execute_result"
    }
   ],
   "source": [
    "sb_df['Visit Program'].map({'1':'Infant'})"
   ]
  },
  {
   "cell_type": "code",
   "execution_count": 9,
   "id": "8f2e6420",
   "metadata": {},
   "outputs": [
    {
     "data": {
      "text/plain": [
       "{'Z': 'Indoor Camp Toddlers',\n",
       " '8': 'Infant',\n",
       " 'G': 'Toddler',\n",
       " 'C': 'Drop In',\n",
       " '2': 'UPK Preschool',\n",
       " 'P': 'Preschool',\n",
       " 'W': 'After School',\n",
       " '9': 'Preschool Child',\n",
       " '4': 'Employee Hours',\n",
       " 'A': 'Afterschool',\n",
       " 'E': 'Date Night Infant',\n",
       " '5': 'Stay & Play Child',\n",
       " 'N': 'Date Night Child',\n",
       " 'D': 'Date Night',\n",
       " '3': 'JEC Afterschool',\n",
       " 'B': 'Summer Camp Infant',\n",
       " 'J': 'Holiday Infant',\n",
       " 'V': 'Holiday Camp',\n",
       " 'X': 'Outdoor Explorer',\n",
       " '7': 'Summer Camp Child',\n",
       " 'H': 'Holiday Child',\n",
       " 'M': 'Afternoon Enrichment',\n",
       " 'T': 'Stay & Play Infant',\n",
       " '0': 'Spring or Summer Camp Child',\n",
       " 'S': 'Spring or Summer Camp',\n",
       " 'F': 'Day Camp',\n",
       " '!': 'KGC - Stay & Play Infant',\n",
       " '6': 'Winter Camp Child',\n",
       " 'R': 'Art Lab & Studio',\n",
       " 'Y': 'Indoor Camp Children',\n",
       " 'K': 'Jr Explorer'}"
      ]
     },
     "execution_count": 9,
     "metadata": {},
     "output_type": "execute_result"
    }
   ],
   "source": [
    "program_map = {\n",
    "    \"Indoor Camp Toddlers\":\"Z\",\n",
    "    \"Infant\":\"1\",\n",
    "    \"Infant\":\"8\",\n",
    "    \"Toddler\":\"I\",\n",
    "    \"Drop In\":\"C\",\n",
    "    \"Toddler\":\"G\",\n",
    "    \"Child\":\"2\",\n",
    "    \"Preschool\":\"P\",\n",
    "    \"UPK Preschool\":\"2\",\n",
    "    \"After School\":\"W\",\n",
    "    \"Preschool Child\":\"9\",\n",
    "    \"Preschool\":\"P\",\n",
    "    \"Stay & Play Toddler\":\"4\",\n",
    "    \"Afterschool\":\"A\",\n",
    "    \"Date Night Infant\":\"E\",\n",
    "    \"Stay & Play Child\":\"5\",\n",
    "    \"Date Night Child\":\"D\",\n",
    "    \"Date Night\":\"D\",\n",
    "    \"Date Night Child\":\"N\",\n",
    "    \"JEC Afterschool\":\"L\",\n",
    "    \"Summer Camp Infant\":\"B\",\n",
    "    \"Holiday Infant\":\"J\",\n",
    "    \"Holiday Camp\":\"V\",\n",
    "    \"Outdoor Explorer\":\"X\",\n",
    "    \"Summer Camp Child\":\"7\",\n",
    "    \"Holiday Child\":\"H\",\n",
    "    \"Afternoon Enrichment\":\"M\",\n",
    "    \"Stay & Play Infant\":\"T\",\n",
    "    \"Spring or Summer Camp Child\":\"A\",\n",
    "    \"Stay & Play\":\"O\",\n",
    "    \"Stay & Play\":\"S\",\n",
    "    \"Day Camp\":\"F\",\n",
    "    \"KGC - Stay & Play Infant\":\"!\",\n",
    "    \"JEC Afterschool\":\"3\",\n",
    "    \"Winter Camp Child\":\"6\",\n",
    "    \"Art Lab & Studio\":\"Q\",\n",
    "    \"Art Lab & Studio\":\"R\",\n",
    "    \"Indoor Camp Children\":\"Y\",\n",
    "    \"Spring or Summer Camp Child\":\"0\",\n",
    "    \"Jr Explorer\":\"K\",\n",
    "    \"Spring or Summer Camp\":\"S\",\n",
    "    \"Employee Hours\":\"4\"\n",
    "}\n",
    "\n",
    "program_map = {value: key for key, value in program_map.items()}\n",
    "\n",
    "program_map"
   ]
  },
  {
   "cell_type": "code",
   "execution_count": null,
   "id": "8e8661b8",
   "metadata": {},
   "outputs": [],
   "source": [
    "sb_programs_df = sb_df.groupby(['Visit Program', 'Visit Date']).count().rename({'Visit Time In': 'visits'}, axis=1).drop('Visit Time Out', axis=1).reset_index()\n",
    "sb_programs_df['Month'] = sb_programs_df['Visit Date'].dt.to_period('M')\n",
    "sb_programs_df['Month'] = sb_programs_df['Month'].astype('datetime64[ms]')\n",
    "sb_programs_df = sb_programs_df.drop('Visit Date', axis=1).groupby(['Month', 'Visit Program']).sum().reset_index()"
   ]
  },
  {
   "cell_type": "code",
   "execution_count": 41,
   "id": "8d045c74",
   "metadata": {},
   "outputs": [
    {
     "data": {
      "image/png": "[encoded data removed]",
      "text/plain": [
       "<Figure size 1800x600 with 1 Axes>"
      ]
     },
     "metadata": {},
     "output_type": "display_data"
    }
   ],
   "source": [
    "plt.figure(figsize=(18,6))\n",
    "\n",
    "sns.lineplot(sb_programs_df[-52:], x='Month', y='visits', hue='Visit Program');"
   ]
  },
  {
   "cell_type": "markdown",
   "id": "0af1343c",
   "metadata": {},
   "source": [
    "### Visualize Visits per Week"
   ]
  },
  {
   "cell_type": "code",
   "execution_count": 4,
   "id": "930ec3b8",
   "metadata": {},
   "outputs": [],
   "source": [
    "visits_per_day_df = kg_df.groupby(['Visit Date', 'center']).count().rename({'Visit Time In': 'visits'}, axis=1).drop(['Visit Time Out', 'Visit Program'], axis=1).reset_index()\n",
    "\n",
    "visits_per_day_df = visits_per_day_df.set_index('Visit Date')\n",
    "\n",
    "visits_per_day_df['center'] = visits_per_day_df['center'].astype('category')\n",
    "visits_per_week_df = visits_per_day_df.groupby('center', observed=True).resample('W').sum().reset_index().set_index('Visit Date')"
   ]
  },
  {
   "cell_type": "code",
   "execution_count": 118,
   "id": "7b3698fa",
   "metadata": {},
   "outputs": [
    {
     "data": {
      "application/vnd.plotly.v1+json": {
       "config": {
        "plotlyServerURL": "https://plot.ly"
       },
       "data": [
        {
         "hovertemplate": "center=7100<br>Visit Date=%{x}<br>visits=%{y}<extra></extra>",
         "legendgroup": "7100",
         "line": {
          "color": "#636efa",
          "dash": "solid"
         },
         "marker": {
          "symbol": "circle"
         },
         "mode": "lines",
         "name": "Mt Pleasant",
         "orientation": "v",
         "showlegend": true,
         "type": "scatter",
         "x": [
          "2024-09-01T00:00:00",
          "2024-09-08T00:00:00",
          "2024-09-15T00:00:00",
          "2024-09-22T00:00:00",
          "2024-09-29T00:00:00",
          "2024-10-06T00:00:00",
          "2024-10-13T00:00:00",
          "2024-10-20T00:00:00",
          "2024-10-27T00:00:00",
          "2024-11-03T00:00:00",
          "2024-11-10T00:00:00",
          "2024-11-17T00:00:00",
          "2024-11-24T00:00:00",
          "2024-12-01T00:00:00",
          "2024-12-08T00:00:00",
          "2024-12-15T00:00:00",
          "2024-12-22T00:00:00",
          "2024-12-29T00:00:00",
          "2025-01-05T00:00:00",
          "2025-01-12T00:00:00",
          "2025-01-19T00:00:00",
          "2025-01-26T00:00:00",
          "2025-02-02T00:00:00",
          "2025-02-09T00:00:00",
          "2025-02-16T00:00:00",
          "2025-02-23T00:00:00",
          "2025-03-02T00:00:00",
          "2025-03-09T00:00:00",
          "2025-03-16T00:00:00",
          "2025-03-23T00:00:00",
          "2025-03-30T00:00:00",
          "2025-04-06T00:00:00",
          "2025-04-13T00:00:00",
          "2025-04-20T00:00:00",
          "2025-04-27T00:00:00",
          "2025-05-04T00:00:00",
          "2025-05-11T00:00:00",
          "2025-05-18T00:00:00",
          "2025-05-25T00:00:00",
          "2025-06-01T00:00:00",
          "2025-06-08T00:00:00",
          "2025-06-15T00:00:00",
          "2025-06-22T00:00:00",
          "2025-06-29T00:00:00",
          "2025-07-06T00:00:00",
          "2025-07-13T00:00:00",
          "2025-07-20T00:00:00",
          "2025-07-27T00:00:00",
          "2025-08-03T00:00:00",
          "2025-08-10T00:00:00",
          "2025-08-17T00:00:00",
          "2025-08-24T00:00:00",
          "2025-08-31T00:00:00",
          "2025-09-07T00:00:00"
         ],
         "xaxis": "x",
         "y": {
          "bdata": "mABZAIYAbgBuAFkAYQBvAG0AaAB2AI4AaABqAFcAiAB4ACUAnQCBAG4AKwBrAHAAbACBAGQAlwCBAIMAfwCBAIYAlwCUAHoAZQB9AGwAeQDSAJMAgwCbAIIAlwCeAJkAfQDnAIMAgABlABkA",
          "dtype": "i2"
         },
         "yaxis": "y"
        },
        {
         "hovertemplate": "center=7101<br>Visit Date=%{x}<br>visits=%{y}<extra></extra>",
         "legendgroup": "7101",
         "line": {
          "color": "#EF553B",
          "dash": "solid"
         },
         "marker": {
          "symbol": "circle"
         },
         "mode": "lines",
         "name": "S Windemeer",
         "orientation": "v",
         "showlegend": true,
         "type": "scatter",
         "x": [
          "2024-09-01T00:00:00",
          "2024-09-08T00:00:00",
          "2024-09-15T00:00:00",
          "2024-09-22T00:00:00",
          "2024-09-29T00:00:00",
          "2024-10-06T00:00:00",
          "2024-10-13T00:00:00",
          "2024-10-20T00:00:00",
          "2024-10-27T00:00:00",
          "2024-11-03T00:00:00",
          "2024-11-10T00:00:00",
          "2024-11-17T00:00:00",
          "2024-11-24T00:00:00",
          "2024-12-01T00:00:00",
          "2024-12-08T00:00:00",
          "2024-12-15T00:00:00",
          "2024-12-22T00:00:00",
          "2024-12-29T00:00:00",
          "2025-01-05T00:00:00",
          "2025-01-12T00:00:00",
          "2025-01-19T00:00:00",
          "2025-01-26T00:00:00",
          "2025-02-02T00:00:00",
          "2025-02-09T00:00:00",
          "2025-02-16T00:00:00",
          "2025-02-23T00:00:00",
          "2025-03-02T00:00:00",
          "2025-03-09T00:00:00",
          "2025-03-16T00:00:00",
          "2025-03-23T00:00:00",
          "2025-03-30T00:00:00",
          "2025-04-06T00:00:00",
          "2025-04-13T00:00:00",
          "2025-04-20T00:00:00",
          "2025-04-27T00:00:00",
          "2025-05-04T00:00:00",
          "2025-05-11T00:00:00",
          "2025-05-18T00:00:00",
          "2025-05-25T00:00:00",
          "2025-06-01T00:00:00",
          "2025-06-08T00:00:00",
          "2025-06-15T00:00:00",
          "2025-06-22T00:00:00",
          "2025-06-29T00:00:00",
          "2025-07-06T00:00:00",
          "2025-07-13T00:00:00",
          "2025-07-20T00:00:00",
          "2025-07-27T00:00:00",
          "2025-08-03T00:00:00",
          "2025-08-10T00:00:00",
          "2025-08-17T00:00:00",
          "2025-08-24T00:00:00",
          "2025-08-31T00:00:00",
          "2025-09-07T00:00:00"
         ],
         "xaxis": "x",
         "y": {
          "bdata": "0wDDAOsA0QC3AOAA9QDvAP4A6wDtAPEA4gClANUA6QDrAEIAswAWAekAUgASAS8BAQEAAQQBCAEQAQ8BCQEWATEB+wAVARIBGgE0ARIBBgGPATUBSwE3AfMAOAEbATUBkQGHAfcAFQHrAGEA",
          "dtype": "i2"
         },
         "yaxis": "y"
        },
        {
         "hovertemplate": "center=7102<br>Visit Date=%{x}<br>visits=%{y}<extra></extra>",
         "legendgroup": "7102",
         "line": {
          "color": "#00cc96",
          "dash": "solid"
         },
         "marker": {
          "symbol": "circle"
         },
         "mode": "lines",
         "name": "Steamboat",
         "orientation": "v",
         "showlegend": true,
         "type": "scatter",
         "x": [
          "2024-09-01T00:00:00",
          "2024-09-08T00:00:00",
          "2024-09-15T00:00:00",
          "2024-09-22T00:00:00",
          "2024-09-29T00:00:00",
          "2024-10-06T00:00:00",
          "2024-10-13T00:00:00",
          "2024-10-20T00:00:00",
          "2024-10-27T00:00:00",
          "2024-11-03T00:00:00",
          "2024-11-10T00:00:00",
          "2024-11-17T00:00:00",
          "2024-11-24T00:00:00",
          "2024-12-01T00:00:00",
          "2024-12-08T00:00:00",
          "2024-12-15T00:00:00",
          "2024-12-22T00:00:00",
          "2024-12-29T00:00:00",
          "2025-01-05T00:00:00",
          "2025-01-12T00:00:00",
          "2025-01-19T00:00:00",
          "2025-01-26T00:00:00",
          "2025-02-02T00:00:00",
          "2025-02-09T00:00:00",
          "2025-02-16T00:00:00",
          "2025-02-23T00:00:00",
          "2025-03-02T00:00:00",
          "2025-03-09T00:00:00",
          "2025-03-16T00:00:00",
          "2025-03-23T00:00:00",
          "2025-03-30T00:00:00",
          "2025-04-06T00:00:00",
          "2025-04-13T00:00:00",
          "2025-04-20T00:00:00",
          "2025-04-27T00:00:00",
          "2025-05-04T00:00:00",
          "2025-05-11T00:00:00",
          "2025-05-18T00:00:00",
          "2025-05-25T00:00:00",
          "2025-06-01T00:00:00",
          "2025-06-08T00:00:00",
          "2025-06-15T00:00:00",
          "2025-06-22T00:00:00",
          "2025-06-29T00:00:00",
          "2025-07-06T00:00:00",
          "2025-07-13T00:00:00",
          "2025-07-20T00:00:00",
          "2025-07-27T00:00:00",
          "2025-08-03T00:00:00",
          "2025-08-10T00:00:00",
          "2025-08-17T00:00:00",
          "2025-08-24T00:00:00",
          "2025-08-31T00:00:00",
          "2025-09-07T00:00:00"
         ],
         "xaxis": "x",
         "y": {
          "bdata": "hgAyAEAATABZAFoAbQBoAE8ASgBWAEQANQBOAFIARwBPAJkAqAByAGIAcgCCAJEAqwCoAJMAmgCVALUAsQB0AJsAcwAAAH8AYwBvAHUAYgDAALAAqACVAJcAzwDCAKcAsAClAM4AfgCbACQA",
          "dtype": "i2"
         },
         "yaxis": "y"
        },
        {
         "hovertemplate": "center=7103<br>Visit Date=%{x}<br>visits=%{y}<extra></extra>",
         "legendgroup": "7103",
         "line": {
          "color": "#ab63fa",
          "dash": "solid"
         },
         "marker": {
          "symbol": "circle"
         },
         "mode": "lines",
         "name": "Evergreen",
         "orientation": "v",
         "showlegend": true,
         "type": "scatter",
         "x": [
          "2024-12-08T00:00:00",
          "2024-12-15T00:00:00",
          "2024-12-22T00:00:00",
          "2024-12-29T00:00:00",
          "2025-01-05T00:00:00",
          "2025-01-12T00:00:00",
          "2025-01-19T00:00:00",
          "2025-01-26T00:00:00",
          "2025-02-02T00:00:00",
          "2025-02-09T00:00:00",
          "2025-02-16T00:00:00",
          "2025-02-23T00:00:00",
          "2025-03-02T00:00:00",
          "2025-03-09T00:00:00",
          "2025-03-16T00:00:00",
          "2025-03-23T00:00:00",
          "2025-03-30T00:00:00",
          "2025-04-06T00:00:00",
          "2025-04-13T00:00:00",
          "2025-04-20T00:00:00",
          "2025-04-27T00:00:00",
          "2025-05-04T00:00:00",
          "2025-05-11T00:00:00",
          "2025-05-18T00:00:00",
          "2025-05-25T00:00:00",
          "2025-06-01T00:00:00",
          "2025-06-08T00:00:00",
          "2025-06-15T00:00:00",
          "2025-06-22T00:00:00",
          "2025-06-29T00:00:00",
          "2025-07-06T00:00:00",
          "2025-07-13T00:00:00",
          "2025-07-20T00:00:00",
          "2025-07-27T00:00:00",
          "2025-08-03T00:00:00",
          "2025-08-10T00:00:00",
          "2025-08-17T00:00:00",
          "2025-08-24T00:00:00"
         ],
         "xaxis": "x",
         "y": {
          "bdata": "CAAjADUAHAAuACgAKwA0AD8APAA/ADUATQBGAEUAXgBNAD4AOwBCAFAASQBPAFAAWQBhAIgAYgBaAFkAXgBeAGMAaABzAGwAjABbAA==",
          "dtype": "i2"
         },
         "yaxis": "y"
        }
       ],
       "layout": {
        "legend": {
         "title": {
          "text": "center"
         },
         "tracegroupgap": 0
        },
        "margin": {
         "t": 60
        },
        "template": {
         "data": {
          "bar": [
           {
            "error_x": {
             "color": "#2a3f5f"
            },
            "error_y": {
             "color": "#2a3f5f"
            },
            "marker": {
             "line": {
              "color": "#E5ECF6",
              "width": 0.5
             },
             "pattern": {
              "fillmode": "overlay",
              "size": 10,
              "solidity": 0.2
             }
            },
            "type": "bar"
           }
          ],
          "barpolar": [
           {
            "marker": {
             "line": {
              "color": "#E5ECF6",
              "width": 0.5
             },
             "pattern": {
              "fillmode": "overlay",
              "size": 10,
              "solidity": 0.2
             }
            },
            "type": "barpolar"
           }
          ],
          "carpet": [
           {
            "aaxis": {
             "endlinecolor": "#2a3f5f",
             "gridcolor": "white",
             "linecolor": "white",
             "minorgridcolor": "white",
             "startlinecolor": "#2a3f5f"
            },
            "baxis": {
             "endlinecolor": "#2a3f5f",
             "gridcolor": "white",
             "linecolor": "white",
             "minorgridcolor": "white",
             "startlinecolor": "#2a3f5f"
            },
            "type": "carpet"
           }
          ],
          "choropleth": [
           {
            "colorbar": {
             "outlinewidth": 0,
             "ticks": ""
            },
            "type": "choropleth"
           }
          ],
          "contour": [
           {
            "colorbar": {
             "outlinewidth": 0,
             "ticks": ""
            },
            "colorscale": [
             [
              0,
              "#0d0887"
             ],
             [
              0.1111111111111111,
              "#46039f"
             ],
             [
              0.2222222222222222,
              "#7201a8"
             ],
             [
              0.3333333333333333,
              "#9c179e"
             ],
             [
              0.4444444444444444,
              "#bd3786"
             ],
             [
              0.5555555555555556,
              "#d8576b"
             ],
             [
              0.6666666666666666,
              "#ed7953"
             ],
             [
              0.7777777777777778,
              "#fb9f3a"
             ],
             [
              0.8888888888888888,
              "#fdca26"
             ],
             [
              1,
              "#f0f921"
             ]
            ],
            "type": "contour"
           }
          ],
          "contourcarpet": [
           {
            "colorbar": {
             "outlinewidth": 0,
             "ticks": ""
            },
            "type": "contourcarpet"
           }
          ],
          "heatmap": [
           {
            "colorbar": {
             "outlinewidth": 0,
             "ticks": ""
            },
            "colorscale": [
             [
              0,
              "#0d0887"
             ],
             [
              0.1111111111111111,
              "#46039f"
             ],
             [
              0.2222222222222222,
              "#7201a8"
             ],
             [
              0.3333333333333333,
              "#9c179e"
             ],
             [
              0.4444444444444444,
              "#bd3786"
             ],
             [
              0.5555555555555556,
              "#d8576b"
             ],
             [
              0.6666666666666666,
              "#ed7953"
             ],
             [
              0.7777777777777778,
              "#fb9f3a"
             ],
             [
              0.8888888888888888,
              "#fdca26"
             ],
             [
              1,
              "#f0f921"
             ]
            ],
            "type": "heatmap"
           }
          ],
          "histogram": [
           {
            "marker": {
             "pattern": {
              "fillmode": "overlay",
              "size": 10,
              "solidity": 0.2
             }
            },
            "type": "histogram"
           }
          ],
          "histogram2d": [
           {
            "colorbar": {
             "outlinewidth": 0,
             "ticks": ""
            },
            "colorscale": [
             [
              0,
              "#0d0887"
             ],
             [
              0.1111111111111111,
              "#46039f"
             ],
             [
              0.2222222222222222,
              "#7201a8"
             ],
             [
              0.3333333333333333,
              "#9c179e"
             ],
             [
              0.4444444444444444,
              "#bd3786"
             ],
             [
              0.5555555555555556,
              "#d8576b"
             ],
             [
              0.6666666666666666,
              "#ed7953"
             ],
             [
              0.7777777777777778,
              "#fb9f3a"
             ],
             [
              0.8888888888888888,
              "#fdca26"
             ],
             [
              1,
              "#f0f921"
             ]
            ],
            "type": "histogram2d"
           }
          ],
          "histogram2dcontour": [
           {
            "colorbar": {
             "outlinewidth": 0,
             "ticks": ""
            },
            "colorscale": [
             [
              0,
              "#0d0887"
             ],
             [
              0.1111111111111111,
              "#46039f"
             ],
             [
              0.2222222222222222,
              "#7201a8"
             ],
             [
              0.3333333333333333,
              "#9c179e"
             ],
             [
              0.4444444444444444,
              "#bd3786"
             ],
             [
              0.5555555555555556,
              "#d8576b"
             ],
             [
              0.6666666666666666,
              "#ed7953"
             ],
             [
              0.7777777777777778,
              "#fb9f3a"
             ],
             [
              0.8888888888888888,
              "#fdca26"
             ],
             [
              1,
              "#f0f921"
             ]
            ],
            "type": "histogram2dcontour"
           }
          ],
          "mesh3d": [
           {
            "colorbar": {
             "outlinewidth": 0,
             "ticks": ""
            },
            "type": "mesh3d"
           }
          ],
          "parcoords": [
           {
            "line": {
             "colorbar": {
              "outlinewidth": 0,
              "ticks": ""
             }
            },
            "type": "parcoords"
           }
          ],
          "pie": [
           {
            "automargin": true,
            "type": "pie"
           }
          ],
          "scatter": [
           {
            "fillpattern": {
             "fillmode": "overlay",
             "size": 10,
             "solidity": 0.2
            },
            "type": "scatter"
           }
          ],
          "scatter3d": [
           {
            "line": {
             "colorbar": {
              "outlinewidth": 0,
              "ticks": ""
             }
            },
            "marker": {
             "colorbar": {
              "outlinewidth": 0,
              "ticks": ""
             }
            },
            "type": "scatter3d"
           }
          ],
          "scattercarpet": [
           {
            "marker": {
             "colorbar": {
              "outlinewidth": 0,
              "ticks": ""
             }
            },
            "type": "scattercarpet"
           }
          ],
          "scattergeo": [
           {
            "marker": {
             "colorbar": {
              "outlinewidth": 0,
              "ticks": ""
             }
            },
            "type": "scattergeo"
           }
          ],
          "scattergl": [
           {
            "marker": {
             "colorbar": {
              "outlinewidth": 0,
              "ticks": ""
             }
            },
            "type": "scattergl"
           }
          ],
          "scattermap": [
           {
            "marker": {
             "colorbar": {
              "outlinewidth": 0,
              "ticks": ""
             }
            },
            "type": "scattermap"
           }
          ],
          "scattermapbox": [
           {
            "marker": {
             "colorbar": {
              "outlinewidth": 0,
              "ticks": ""
             }
            },
            "type": "scattermapbox"
           }
          ],
          "scatterpolar": [
           {
            "marker": {
             "colorbar": {
              "outlinewidth": 0,
              "ticks": ""
             }
            },
            "type": "scatterpolar"
           }
          ],
          "scatterpolargl": [
           {
            "marker": {
             "colorbar": {
              "outlinewidth": 0,
              "ticks": ""
             }
            },
            "type": "scatterpolargl"
           }
          ],
          "scatterternary": [
           {
            "marker": {
             "colorbar": {
              "outlinewidth": 0,
              "ticks": ""
             }
            },
            "type": "scatterternary"
           }
          ],
          "surface": [
           {
            "colorbar": {
             "outlinewidth": 0,
             "ticks": ""
            },
            "colorscale": [
             [
              0,
              "#0d0887"
             ],
             [
              0.1111111111111111,
              "#46039f"
             ],
             [
              0.2222222222222222,
              "#7201a8"
             ],
             [
              0.3333333333333333,
              "#9c179e"
             ],
             [
              0.4444444444444444,
              "#bd3786"
             ],
             [
              0.5555555555555556,
              "#d8576b"
             ],
             [
              0.6666666666666666,
              "#ed7953"
             ],
             [
              0.7777777777777778,
              "#fb9f3a"
             ],
             [
              0.8888888888888888,
              "#fdca26"
             ],
             [
              1,
              "#f0f921"
             ]
            ],
            "type": "surface"
           }
          ],
          "table": [
           {
            "cells": {
             "fill": {
              "color": "#EBF0F8"
             },
             "line": {
              "color": "white"
             }
            },
            "header": {
             "fill": {
              "color": "#C8D4E3"
             },
             "line": {
              "color": "white"
             }
            },
            "type": "table"
           }
          ]
         },
         "layout": {
          "annotationdefaults": {
           "arrowcolor": "#2a3f5f",
           "arrowhead": 0,
           "arrowwidth": 1
          },
          "autotypenumbers": "strict",
          "coloraxis": {
           "colorbar": {
            "outlinewidth": 0,
            "ticks": ""
           }
          },
          "colorscale": {
           "diverging": [
            [
             0,
             "#8e0152"
            ],
            [
             0.1,
             "#c51b7d"
            ],
            [
             0.2,
             "#de77ae"
            ],
            [
             0.3,
             "#f1b6da"
            ],
            [
             0.4,
             "#fde0ef"
            ],
            [
             0.5,
             "#f7f7f7"
            ],
            [
             0.6,
             "#e6f5d0"
            ],
            [
             0.7,
             "#b8e186"
            ],
            [
             0.8,
             "#7fbc41"
            ],
            [
             0.9,
             "#4d9221"
            ],
            [
             1,
             "#276419"
            ]
           ],
           "sequential": [
            [
             0,
             "#0d0887"
            ],
            [
             0.1111111111111111,
             "#46039f"
            ],
            [
             0.2222222222222222,
             "#7201a8"
            ],
            [
             0.3333333333333333,
             "#9c179e"
            ],
            [
             0.4444444444444444,
             "#bd3786"
            ],
            [
             0.5555555555555556,
             "#d8576b"
            ],
            [
             0.6666666666666666,
             "#ed7953"
            ],
            [
             0.7777777777777778,
             "#fb9f3a"
            ],
            [
             0.8888888888888888,
             "#fdca26"
            ],
            [
             1,
             "#f0f921"
            ]
           ],
           "sequentialminus": [
            [
             0,
             "#0d0887"
            ],
            [
             0.1111111111111111,
             "#46039f"
            ],
            [
             0.2222222222222222,
             "#7201a8"
            ],
            [
             0.3333333333333333,
             "#9c179e"
            ],
            [
             0.4444444444444444,
             "#bd3786"
            ],
            [
             0.5555555555555556,
             "#d8576b"
            ],
            [
             0.6666666666666666,
             "#ed7953"
            ],
            [
             0.7777777777777778,
             "#fb9f3a"
            ],
            [
             0.8888888888888888,
             "#fdca26"
            ],
            [
             1,
             "#f0f921"
            ]
           ]
          },
          "colorway": [
           "#636efa",
           "#EF553B",
           "#00cc96",
           "#ab63fa",
           "#FFA15A",
           "#19d3f3",
           "#FF6692",
           "#B6E880",
           "#FF97FF",
           "#FECB52"
          ],
          "font": {
           "color": "#2a3f5f"
          },
          "geo": {
           "bgcolor": "white",
           "lakecolor": "white",
           "landcolor": "#E5ECF6",
           "showlakes": true,
           "showland": true,
           "subunitcolor": "white"
          },
          "hoverlabel": {
           "align": "left"
          },
          "hovermode": "closest",
          "mapbox": {
           "style": "light"
          },
          "paper_bgcolor": "white",
          "plot_bgcolor": "#E5ECF6",
          "polar": {
           "angularaxis": {
            "gridcolor": "white",
            "linecolor": "white",
            "ticks": ""
           },
           "bgcolor": "#E5ECF6",
           "radialaxis": {
            "gridcolor": "white",
            "linecolor": "white",
            "ticks": ""
           }
          },
          "scene": {
           "xaxis": {
            "backgroundcolor": "#E5ECF6",
            "gridcolor": "white",
            "gridwidth": 2,
            "linecolor": "white",
            "showbackground": true,
            "ticks": "",
            "zerolinecolor": "white"
           },
           "yaxis": {
            "backgroundcolor": "#E5ECF6",
            "gridcolor": "white",
            "gridwidth": 2,
            "linecolor": "white",
            "showbackground": true,
            "ticks": "",
            "zerolinecolor": "white"
           },
           "zaxis": {
            "backgroundcolor": "#E5ECF6",
            "gridcolor": "white",
            "gridwidth": 2,
            "linecolor": "white",
            "showbackground": true,
            "ticks": "",
            "zerolinecolor": "white"
           }
          },
          "shapedefaults": {
           "line": {
            "color": "#2a3f5f"
           }
          },
          "ternary": {
           "aaxis": {
            "gridcolor": "white",
            "linecolor": "white",
            "ticks": ""
           },
           "baxis": {
            "gridcolor": "white",
            "linecolor": "white",
            "ticks": ""
           },
           "bgcolor": "#E5ECF6",
           "caxis": {
            "gridcolor": "white",
            "linecolor": "white",
            "ticks": ""
           }
          },
          "title": {
           "x": 0.05
          },
          "xaxis": {
           "automargin": true,
           "gridcolor": "white",
           "linecolor": "white",
           "ticks": "",
           "title": {
            "standoff": 15
           },
           "zerolinecolor": "white",
           "zerolinewidth": 2
          },
          "yaxis": {
           "automargin": true,
           "gridcolor": "white",
           "linecolor": "white",
           "ticks": "",
           "title": {
            "standoff": 15
           },
           "zerolinecolor": "white",
           "zerolinewidth": 2
          }
         }
        },
        "xaxis": {
         "anchor": "y",
         "domain": [
          0,
          1
         ],
         "title": {
          "text": "Visit Date"
         }
        },
        "yaxis": {
         "anchor": "x",
         "domain": [
          0,
          1
         ],
         "title": {
          "text": "visits"
         }
        }
       }
      }
     },
     "metadata": {},
     "output_type": "display_data"
    }
   ],
   "source": [
    "last_year_df = visits_per_week_df['2024-09':]\n",
    "\n",
    "fig = px.line(last_year_df, x=last_year_df.index, y='visits', color='center')\n",
    "\n",
    "fig.for_each_trace(lambda a: a.update(name=center_map.get(int(a.name))))\n",
    "fig.show();"
   ]
  },
  {
   "cell_type": "markdown",
   "id": "f732ac29",
   "metadata": {},
   "source": [
    "Check for seasonality"
   ]
  },
  {
   "cell_type": "code",
   "execution_count": 5,
   "id": "3a3de05d",
   "metadata": {},
   "outputs": [
    {
     "data": {
      "image/png": "[encoded data removed]",
      "text/plain": [
       "<Figure size 640x480 with 4 Axes>"
      ]
     },
     "metadata": {},
     "output_type": "display_data"
    }
   ],
   "source": [
    "seasonal_decompose(visits_per_day_df['visits'], period=365).plot();"
   ]
  },
  {
   "cell_type": "markdown",
   "id": "1c526895",
   "metadata": {},
   "source": [
    "- Trend present for all centers\n",
    "- Very seasonal for all centers (annual, summers)"
   ]
  },
  {
   "cell_type": "markdown",
   "id": "3add8536",
   "metadata": {},
   "source": [
    "Test autocorrelation"
   ]
  },
  {
   "cell_type": "code",
   "execution_count": 6,
   "id": "4d71a17d",
   "metadata": {},
   "outputs": [
    {
     "data": {
      "text/plain": [
       "<Figure size 1000x500 with 0 Axes>"
      ]
     },
     "metadata": {},
     "output_type": "display_data"
    },
    {
     "data": {
      "image/png": "[encoded data removed]",
      "text/plain": [
       "<Figure size 640x480 with 1 Axes>"
      ]
     },
     "metadata": {},
     "output_type": "display_data"
    }
   ],
   "source": [
    "plt.figure(figsize=(10, 5))\n",
    "plot_acf(visits_per_day_df['visits'], lags=52, markersize=4)\n",
    "plt.title(\"Autocorrelation Function (ACF)\")\n",
    "plt.xlabel(\"Lag\")\n",
    "plt.ylabel(\"Autocorrelation Coefficient\")\n",
    "plt.show();"
   ]
  },
  {
   "cell_type": "code",
   "execution_count": 7,
   "id": "ca06c506",
   "metadata": {},
   "outputs": [
    {
     "data": {
      "text/plain": [
       "<Figure size 1000x500 with 0 Axes>"
      ]
     },
     "metadata": {},
     "output_type": "display_data"
    },
    {
     "data": {
      "image/png": "[encoded data removed]",
      "text/plain": [
       "<Figure size 640x480 with 1 Axes>"
      ]
     },
     "metadata": {},
     "output_type": "display_data"
    }
   ],
   "source": [
    "plt.figure(figsize=(10, 5))\n",
    "plot_pacf(visits_per_day_df['visits'], lags=52, markersize=4)\n",
    "plt.title(\"Partial Autocorrelation Function (PACF)\")\n",
    "plt.xlabel(\"Lag\")\n",
    "plt.ylabel(\"Autocorrelation Coefficient\")\n",
    "plt.show();"
   ]
  }
 ],
 "metadata": {
  "kernelspec": {
   "display_name": "Python 3",
   "language": "python",
   "name": "python3"
  },
  "language_info": {
   "codemirror_mode": {
    "name": "ipython",
    "version": 3
   },
   "file_extension": ".py",
   "mimetype": "text/x-python",
   "name": "python",
   "nbconvert_exporter": "python",
   "pygments_lexer": "ipython3",
   "version": "3.11.9"
  }
 },
 "nbformat": 4,
 "nbformat_minor": 5
}
